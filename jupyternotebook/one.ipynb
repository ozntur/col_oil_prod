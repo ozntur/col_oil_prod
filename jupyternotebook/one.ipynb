{
 "cells": [
  {
   "cell_type": "markdown",
   "metadata": {},
   "source": [
    "### Plotting oil production data by using pulled data from Colorado Oil & Gas Conservation Commission\n",
    "Colorado Oil & Gas Conservation Commission Well Surface Location Data were used to plot time series. Especially for loop below helps to plot the necessary data by pulling necessary tables that contain oil production data. \n",
    "\n",
    "geopandas and pandas packages were used to read and edit data frames. geopandas is used to read shapefile (GIS data) tables and pandas is used to read tables in html."
   ]
  },
  {
   "cell_type": "markdown",
   "metadata": {},
   "source": [
    "After importing libraries geopandas and pandas, one can use url or a file path to read the shapefile. Luckily, geopandas can read zip files, thus you do not need to download GIS data each time, which saves significant amount of time. "
   ]
  },
  {
   "cell_type": "code",
   "execution_count": 2,
   "metadata": {
    "tags": []
   },
   "outputs": [
    {
     "output_type": "stream",
     "name": "stdout",
     "text": "reading data \n\ndone\n"
    }
   ],
   "source": [
    "import geopandas as gpd\n",
    "import pandas as pd\n",
    "\n",
    "url = 'https://cogcc.state.co.us/documents/data/downloads/gis/WELLS_SHP.ZIP'\n",
    "#file_path = 'data/WELLS_SHP/Wells.shp'\n",
    "\n",
    "\n",
    "print('reading data \\n')\n",
    "ds = gpd.read_file(url)\n",
    "\n",
    "print('done')\n"
   ]
  },
  {
   "cell_type": "code",
   "execution_count": 7,
   "metadata": {},
   "outputs": [
    {
     "output_type": "error",
     "ename": "NameError",
     "evalue": "name 'ds' is not defined",
     "traceback": [
      "\u001b[0;31m---------------------------------------------------------------------------\u001b[0m",
      "\u001b[0;31mNameError\u001b[0m                                 Traceback (most recent call last)",
      "\u001b[0;32m<ipython-input-7-fb28052d6415>\u001b[0m in \u001b[0;36m<module>\u001b[0;34m\u001b[0m\n\u001b[0;32m----> 1\u001b[0;31m \u001b[0mprint\u001b[0m\u001b[0;34m(\u001b[0m\u001b[0mds\u001b[0m\u001b[0;34m.\u001b[0m\u001b[0mAPI\u001b[0m\u001b[0;34m[\u001b[0m\u001b[0mds\u001b[0m\u001b[0;34m.\u001b[0m\u001b[0mFacil_Stat\u001b[0m \u001b[0;34m==\u001b[0m \u001b[0;34m'PR'\u001b[0m\u001b[0;34m]\u001b[0m\u001b[0;34m)\u001b[0m\u001b[0;34m\u001b[0m\u001b[0;34m\u001b[0m\u001b[0m\n\u001b[0m\u001b[1;32m      2\u001b[0m \u001b[0;31m#print('done')\u001b[0m\u001b[0;34m\u001b[0m\u001b[0;34m\u001b[0m\u001b[0;34m\u001b[0m\u001b[0m\n\u001b[1;32m      3\u001b[0m \u001b[0md\u001b[0m \u001b[0;34m=\u001b[0m \u001b[0;34m{\u001b[0m\u001b[0;34m}\u001b[0m\u001b[0;34m\u001b[0m\u001b[0;34m\u001b[0m\u001b[0m\n\u001b[1;32m      4\u001b[0m \u001b[0;34m\u001b[0m\u001b[0m\n\u001b[1;32m      5\u001b[0m \u001b[0;32mfor\u001b[0m \u001b[0mx\u001b[0m \u001b[0;32min\u001b[0m \u001b[0;34m(\u001b[0m\u001b[0mds\u001b[0m\u001b[0;34m.\u001b[0m\u001b[0mAPI\u001b[0m\u001b[0;34m[\u001b[0m\u001b[0mds\u001b[0m\u001b[0;34m.\u001b[0m\u001b[0mFacil_Stat\u001b[0m \u001b[0;34m==\u001b[0m\u001b[0;34m'PR'\u001b[0m\u001b[0;34m]\u001b[0m\u001b[0;34m)\u001b[0m\u001b[0;34m:\u001b[0m\u001b[0;34m\u001b[0m\u001b[0;34m\u001b[0m\u001b[0m\n",
      "\u001b[0;31mNameError\u001b[0m: name 'ds' is not defined"
     ]
    }
   ],
   "source": [
    "\n",
    "print(ds.API[ds.Facil_Stat == 'PR'])\n",
    "#print('done')\n",
    "d = {}\n",
    "\n",
    "for x in (ds.API[ds.Facil_Stat =='PR']):\n",
    "    a = ds.API_County.loc[ds.API == x].item()\n",
    "    b = ds.API_Seq.loc[ds.API == x].item()\n",
    "    print('x = ' + x + ' a = ' + a + ' b =' + b)\n",
    "    website = 'https://cogcc.state.co.us/production/?&apiCounty='+a+'&apiSequence='+b+'&APIWB=00&Year=All'\n",
    "    print(website)\n",
    "    dfs = pd.read_html(website)\n",
    "    dfs[1]['First of Month'] = pd.to_datetime(dfs[1]['First of Month'])\n",
    "\n",
    "    data = {\n",
    "    'Time' : dfs[1]['First of Month'] ,\n",
    "    'Oilprod' : dfs[1]['Oil Produced']\n",
    "    }\n",
    "    d[x] = pd.DataFrame(data)\n",
    "    if b == '08294':\n",
    "        break\n",
    "\n",
    "print('finished')\n",
    "\n",
    "for m in list(d):\n",
    "    plt.plot(d[m]['Time'], d[m]['Oilprod'], label = m)\n",
    "\n",
    "#plt.legend()\n",
    "plt.xlabel('Date')\n",
    "plt.ylabel('Oil Produced')\n",
    "plt.show()\n",
    "\n",
    "\n",
    "\n",
    "\n",
    "    \n"
   ]
  },
  {
   "cell_type": "code",
   "execution_count": null,
   "metadata": {},
   "outputs": [],
   "source": []
  }
 ],
 "metadata": {
  "language_info": {
   "codemirror_mode": {
    "name": "ipython",
    "version": 3
   },
   "file_extension": ".py",
   "mimetype": "text/x-python",
   "name": "python",
   "nbconvert_exporter": "python",
   "pygments_lexer": "ipython3",
   "version": "3.8.3-final"
  },
  "orig_nbformat": 2,
  "kernelspec": {
   "name": "python38364bite7ffe17b636446dab840b9f8f1025368",
   "display_name": "Python 3.8.3 64-bit"
  }
 },
 "nbformat": 4,
 "nbformat_minor": 2
}